{
 "cells": [
  {
   "cell_type": "code",
   "execution_count": 40,
   "metadata": {},
   "outputs": [
    {
     "name": "stdout",
     "output_type": "stream",
     "text": [
      "This will take a lot of time, please wait until done!\n",
      "train image size: 1224*370, width height ratio:3.308\n",
      "train image size: 1242*375, width height ratio:3.312\n",
      "train image size: 1238*374, width height ratio:3.310\n",
      "train image size: 1241*376, width height ratio:3.301\n",
      "Done!\n",
      "This will take a lot of time, please wait until done!\n",
      "test image size: 1242*375, width height ratio:3.312\n",
      "test image size: 1224*370, width height ratio:3.308\n",
      "test image size: 1226*370, width height ratio:3.314\n",
      "Done!\n",
      "training\n",
      "|  size  | nums |  w/h  | mums percentage|\n",
      "|1224*370|0.1029 | 3.308 |     10.29%     |\n",
      "|1242*375|0.8097 | 3.312 |     80.97%     |\n",
      "|1238*374|0.0479 | 3.310 |     4.79%      |\n",
      "|1241*376|0.0396 | 3.301 |     3.96%      |\n",
      "----------------------------------------\n",
      "testing\n",
      "|  size  | nums |  w/h  | mums percentage|\n",
      "|1242*375|0.8751| 3.312 |     87.51%     |\n",
      "|1224*370|0.1155| 3.308 |     11.55%     |\n",
      "|1226*370|0.0094| 3.314 |     0.94%      |\n"
     ]
    }
   ],
   "source": [
    "import numpy as np\n",
    "import cv2\n",
    "import os\n",
    "import glob\n",
    "from collections import Counter\n",
    "\n",
    "training_img_path = 'kitti/training/image_2'  # path to your training images\n",
    "training_label_path = 'kitti/training/label_2'  # path to your training labels\n",
    "testing_img_path = 'kitti/testing/image_2'  # path to your testing images\n",
    "\n",
    "train_image_names = glob.glob(os.path.join(training_img_path, '*.png'))\n",
    "train_image_names = sorted(train_image_names)\n",
    "train_images_length = len(train_image_names)\n",
    "\n",
    "test_image_names = glob.glob(os.path.join(testing_img_path, '*.png'))\n",
    "test_image_names = sorted(test_image_names)\n",
    "test_images_length = len(test_image_names)\n",
    "\n",
    "\n",
    "def get_image_size(image_names, kind=''):  # kind should be in [train, test]\n",
    "    if kind == 'train':\n",
    "        length = train_images_length\n",
    "    elif kind == 'test':\n",
    "        length = test_images_length\n",
    "    else:\n",
    "        print('kind must be in [train, test]')\n",
    "        return \n",
    "    image_heights = []\n",
    "    image_widths = []\n",
    "    \n",
    "\n",
    "    heights = []\n",
    "    widths = []\n",
    "    width_height_ratios = [] \n",
    "    nums_percentages = []\n",
    "    print('This will take a lot of time, please wait until done!')\n",
    "    for image in image_names:\n",
    "        # if int(os.path.split(image)[1].split('.')[0])%500 == 0:\n",
    "        #     print(int(os.path.split(image)[1].split('.')[0]))\n",
    "        im = cv2.imread(image)\n",
    "        height = im.shape[0]\n",
    "        width = im.shape[1]\n",
    "        heights.append(height)\n",
    "        widths.append(width)\n",
    "        if height not in image_heights or width not in image_widths:\n",
    "            print('{} image size: {}*{}, width height ratio:{:.3f}'.format(kind, width, height, width*1.0/height))\n",
    "            image_heights.append(height)\n",
    "            image_widths.append(width)\n",
    "            width_height_ratios.append(format(width*1.0/height, '.3f'))\n",
    "    print(\"Done!\")\n",
    "        \n",
    "    width_nums_dict = dict(Counter(widths).items())\n",
    "    nums = [width_nums_dict[image_width] for image_width in image_widths]\n",
    "    percentage = [format(width_nums_dict[image_width]*1.0/length, '.4f') for image_width in image_widths]\n",
    "        \n",
    "        \n",
    "    return image_widths, image_heights, nums, width_height_ratios, percentage\n",
    "\n",
    "train_image_widths, train_image_heights, train_nums, train_w_h_ratios, train_per = get_image_size(train_image_names, kind='train')\n",
    "test_image_widths, test_image_heights, test_nums, test_w_h_ratios, test_per = get_image_size(test_image_names, kind='test')\n",
    "\n",
    "train_results = ['|{:^4}*{:^3}|{:^6}|{:^7}|{:^16.2%}|'.format(width, height, num, wph, float(numper)) \n",
    " for width, height, num, wph, numper in zip(train_image_widths, train_image_heights, train_nums, train_w_h_ratios, train_per)]\n",
    "test_results = ['|{:^4}*{:^3}|{:^6}|{:^7}|{:^16.2%}|'.format(width, height, num, wph, float(numper))\n",
    " for width, height, num, wph, numper in zip(test_image_widths, test_image_heights, test_nums, test_w_h_ratios, test_per)]\n",
    "\n",
    "print('training')\n",
    "print('|  size  | nums |  w/h  | mums percentage|')\n",
    "for result in train_results:\n",
    "    print(result)\n",
    "print('-'*40)\n",
    "print('testing')\n",
    "print('|  size  | nums |  w/h  | mums percentage|')\n",
    "for result in test_results:\n",
    "    print(result)\n"
   ]
  },
  {
   "cell_type": "code",
   "execution_count": 42,
   "metadata": {},
   "outputs": [
    {
     "name": "stdout",
     "output_type": "stream",
     "text": [
      "training\n",
      "|  size  | nums |  w/h  | mums percentage|\n",
      "|1224*370| 770  | 3.308 |     10.29%     |\n",
      "|1242*375| 6057 | 3.312 |     80.97%     |\n",
      "|1238*374| 358  | 3.310 |     4.79%      |\n",
      "|1241*376| 296  | 3.301 |     3.96%      |\n",
      "----------------------------------------\n",
      "testing\n",
      "|  size  | nums |  w/h  | mums percentage|\n",
      "|1242*375| 6579 | 3.312 |     87.51%     |\n",
      "|1224*370| 868  | 3.308 |     11.55%     |\n",
      "|1226*370|  71  | 3.314 |     0.94%      |\n"
     ]
    }
   ],
   "source": [
    "train_results = ['|{:^4}*{:^3}|{:^6}|{:^7}|{:^16.2%}|'.format(width, height, num, wph, float(numper)) \n",
    " for width, height, num, wph, numper in zip(train_image_widths, train_image_heights, train_nums, train_w_h_ratios, train_per)]\n",
    "test_results = ['|{:^4}*{:^3}|{:^6}|{:^7}|{:^16.2%}|'.format(width, height, num, wph, float(numper))\n",
    " for width, height, num, wph, numper in zip(test_image_widths, test_image_heights, test_nums, test_w_h_ratios, test_per)]\n",
    "\n",
    "print('training')\n",
    "print('|  size  | nums |  w/h  | mums percentage|')\n",
    "for result in train_results:\n",
    "    print(result)\n",
    "print('-'*40)\n",
    "print('testing')\n",
    "print('|  size  | nums |  w/h  | mums percentage|')\n",
    "for result in test_results:\n",
    "    print(result)"
   ]
  },
  {
   "cell_type": "code",
   "execution_count": 46,
   "metadata": {},
   "outputs": [
    {
     "name": "stdout",
     "output_type": "stream",
     "text": [
      "{'cyclist': 1, 'pedestrian': 0, 'dontcare': 3, 'car': 2}\n"
     ]
    }
   ],
   "source": [
    "class_sets = ('pedestrian', 'cyclist', 'car', 'dontcare')\n",
    "class_sets_dict = dict((k, i) for i, k in enumerate(class_sets))\n",
    "print(class_sets_dict)"
   ]
  },
  {
   "cell_type": "code",
   "execution_count": null,
   "metadata": {
    "collapsed": true
   },
   "outputs": [],
   "source": []
  }
 ],
 "metadata": {
  "kernelspec": {
   "display_name": "Python 2",
   "language": "python",
   "name": "python2"
  },
  "language_info": {
   "codemirror_mode": {
    "name": "ipython",
    "version": 2
   },
   "file_extension": ".py",
   "mimetype": "text/x-python",
   "name": "python",
   "nbconvert_exporter": "python",
   "pygments_lexer": "ipython2",
   "version": "2.7.13"
  }
 },
 "nbformat": 4,
 "nbformat_minor": 2
}
